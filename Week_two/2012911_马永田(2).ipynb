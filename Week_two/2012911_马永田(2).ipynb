{
 "cells": [
  {
   "cell_type": "markdown",
   "metadata": {},
   "source": [
    "# 实验二 回归模型\n",
    "- 姓名：马永田\n",
    "- 学号：2012911\n",
    "- 专业：计算机科学与技术专业"
   ]
  },
  {
   "cell_type": "markdown",
   "metadata": {},
   "source": [
    "- 回归是监督学习的一个重要问题，回归用于预测**输入变量**和**输出变量**之间的关系，特别是当输入变量的值发生变化时，输出变量的值也随之发生变化。\n",
    "- 回归模型是一种表示从输入变量到输出变量之间映射的函数\n",
    "- 对连续值的预测\n",
    "- 可以用合适的曲线揭示样本点随着自变量的变化关系"
   ]
  },
  {
   "cell_type": "markdown",
   "metadata": {},
   "source": [
    "## 实验要求\n",
    "### 截止日期：10月21日\n",
    "- 以.ipynb形式的文件提交，输出运行结果，并确保自己的代码能够正确运行\n",
    "- 发送到邮箱：2120220594@mail.nankai.edu.cn"
   ]
  },
  {
   "cell_type": "markdown",
   "metadata": {},
   "source": [
    "### 基本要求\n",
    "将数据集winequality-white.csv按照4:1划分为训练集和测试集。\n",
    "1. 构造线性回归模型，并采用批量梯度下降和随机梯度下降进行优化；输出训练集和测试集的均方误差（MSE），画出MSE收敛曲线。\n",
    "2. 对于批量梯度下降和随机梯度下降，采用不同的学习率并进行MSE曲线展示，分析选择最佳的学习率。\n",
    "\n",
    "特别需要注意:\n",
    "- 划分数据集时尽可能保持数据分布的一致性，保持样本类别比例相似，可采用分层采样的方式。\n",
    "- 需要对数据集进行一定的预处理"
   ]
  },
  {
   "cell_type": "markdown",
   "metadata": {},
   "source": [
    "#### 导入winequality-white数据集"
   ]
  },
  {
   "cell_type": "code",
   "execution_count": 1,
   "metadata": {},
   "outputs": [
    {
     "data": {
      "text/html": [
       "<div>\n",
       "<style scoped>\n",
       "    .dataframe tbody tr th:only-of-type {\n",
       "        vertical-align: middle;\n",
       "    }\n",
       "\n",
       "    .dataframe tbody tr th {\n",
       "        vertical-align: top;\n",
       "    }\n",
       "\n",
       "    .dataframe thead th {\n",
       "        text-align: right;\n",
       "    }\n",
       "</style>\n",
       "<table border=\"1\" class=\"dataframe\">\n",
       "  <thead>\n",
       "    <tr style=\"text-align: right;\">\n",
       "      <th></th>\n",
       "      <th>fixed acidity</th>\n",
       "      <th>volatile acidity</th>\n",
       "      <th>citric acid</th>\n",
       "      <th>residual sugar</th>\n",
       "      <th>chlorides</th>\n",
       "      <th>free sulfur dioxide</th>\n",
       "      <th>total sulfur dioxide</th>\n",
       "      <th>density</th>\n",
       "      <th>pH</th>\n",
       "      <th>sulphates</th>\n",
       "      <th>alcohol</th>\n",
       "      <th>quality</th>\n",
       "    </tr>\n",
       "  </thead>\n",
       "  <tbody>\n",
       "    <tr>\n",
       "      <th>0</th>\n",
       "      <td>7.0</td>\n",
       "      <td>0.27</td>\n",
       "      <td>0.36</td>\n",
       "      <td>20.7</td>\n",
       "      <td>0.045</td>\n",
       "      <td>45.0</td>\n",
       "      <td>170.0</td>\n",
       "      <td>1.00100</td>\n",
       "      <td>3.00</td>\n",
       "      <td>0.45</td>\n",
       "      <td>8.8</td>\n",
       "      <td>6</td>\n",
       "    </tr>\n",
       "    <tr>\n",
       "      <th>1</th>\n",
       "      <td>6.3</td>\n",
       "      <td>0.30</td>\n",
       "      <td>0.34</td>\n",
       "      <td>1.6</td>\n",
       "      <td>0.049</td>\n",
       "      <td>14.0</td>\n",
       "      <td>132.0</td>\n",
       "      <td>0.99400</td>\n",
       "      <td>3.30</td>\n",
       "      <td>0.49</td>\n",
       "      <td>9.5</td>\n",
       "      <td>6</td>\n",
       "    </tr>\n",
       "    <tr>\n",
       "      <th>2</th>\n",
       "      <td>8.1</td>\n",
       "      <td>0.28</td>\n",
       "      <td>0.40</td>\n",
       "      <td>6.9</td>\n",
       "      <td>0.050</td>\n",
       "      <td>30.0</td>\n",
       "      <td>97.0</td>\n",
       "      <td>0.99510</td>\n",
       "      <td>3.26</td>\n",
       "      <td>0.44</td>\n",
       "      <td>10.1</td>\n",
       "      <td>6</td>\n",
       "    </tr>\n",
       "    <tr>\n",
       "      <th>3</th>\n",
       "      <td>7.2</td>\n",
       "      <td>0.23</td>\n",
       "      <td>0.32</td>\n",
       "      <td>8.5</td>\n",
       "      <td>0.058</td>\n",
       "      <td>47.0</td>\n",
       "      <td>186.0</td>\n",
       "      <td>0.99560</td>\n",
       "      <td>3.19</td>\n",
       "      <td>0.40</td>\n",
       "      <td>9.9</td>\n",
       "      <td>6</td>\n",
       "    </tr>\n",
       "    <tr>\n",
       "      <th>4</th>\n",
       "      <td>7.2</td>\n",
       "      <td>0.23</td>\n",
       "      <td>0.32</td>\n",
       "      <td>8.5</td>\n",
       "      <td>0.058</td>\n",
       "      <td>47.0</td>\n",
       "      <td>186.0</td>\n",
       "      <td>0.99560</td>\n",
       "      <td>3.19</td>\n",
       "      <td>0.40</td>\n",
       "      <td>9.9</td>\n",
       "      <td>6</td>\n",
       "    </tr>\n",
       "    <tr>\n",
       "      <th>...</th>\n",
       "      <td>...</td>\n",
       "      <td>...</td>\n",
       "      <td>...</td>\n",
       "      <td>...</td>\n",
       "      <td>...</td>\n",
       "      <td>...</td>\n",
       "      <td>...</td>\n",
       "      <td>...</td>\n",
       "      <td>...</td>\n",
       "      <td>...</td>\n",
       "      <td>...</td>\n",
       "      <td>...</td>\n",
       "    </tr>\n",
       "    <tr>\n",
       "      <th>4893</th>\n",
       "      <td>6.2</td>\n",
       "      <td>0.21</td>\n",
       "      <td>0.29</td>\n",
       "      <td>1.6</td>\n",
       "      <td>0.039</td>\n",
       "      <td>24.0</td>\n",
       "      <td>92.0</td>\n",
       "      <td>0.99114</td>\n",
       "      <td>3.27</td>\n",
       "      <td>0.50</td>\n",
       "      <td>11.2</td>\n",
       "      <td>6</td>\n",
       "    </tr>\n",
       "    <tr>\n",
       "      <th>4894</th>\n",
       "      <td>6.6</td>\n",
       "      <td>0.32</td>\n",
       "      <td>0.36</td>\n",
       "      <td>8.0</td>\n",
       "      <td>0.047</td>\n",
       "      <td>57.0</td>\n",
       "      <td>168.0</td>\n",
       "      <td>0.99490</td>\n",
       "      <td>3.15</td>\n",
       "      <td>0.46</td>\n",
       "      <td>9.6</td>\n",
       "      <td>5</td>\n",
       "    </tr>\n",
       "    <tr>\n",
       "      <th>4895</th>\n",
       "      <td>6.5</td>\n",
       "      <td>0.24</td>\n",
       "      <td>0.19</td>\n",
       "      <td>1.2</td>\n",
       "      <td>0.041</td>\n",
       "      <td>30.0</td>\n",
       "      <td>111.0</td>\n",
       "      <td>0.99254</td>\n",
       "      <td>2.99</td>\n",
       "      <td>0.46</td>\n",
       "      <td>9.4</td>\n",
       "      <td>6</td>\n",
       "    </tr>\n",
       "    <tr>\n",
       "      <th>4896</th>\n",
       "      <td>5.5</td>\n",
       "      <td>0.29</td>\n",
       "      <td>0.30</td>\n",
       "      <td>1.1</td>\n",
       "      <td>0.022</td>\n",
       "      <td>20.0</td>\n",
       "      <td>110.0</td>\n",
       "      <td>0.98869</td>\n",
       "      <td>3.34</td>\n",
       "      <td>0.38</td>\n",
       "      <td>12.8</td>\n",
       "      <td>7</td>\n",
       "    </tr>\n",
       "    <tr>\n",
       "      <th>4897</th>\n",
       "      <td>6.0</td>\n",
       "      <td>0.21</td>\n",
       "      <td>0.38</td>\n",
       "      <td>0.8</td>\n",
       "      <td>0.020</td>\n",
       "      <td>22.0</td>\n",
       "      <td>98.0</td>\n",
       "      <td>0.98941</td>\n",
       "      <td>3.26</td>\n",
       "      <td>0.32</td>\n",
       "      <td>11.8</td>\n",
       "      <td>6</td>\n",
       "    </tr>\n",
       "  </tbody>\n",
       "</table>\n",
       "<p>4898 rows × 12 columns</p>\n",
       "</div>"
      ],
      "text/plain": [
       "      fixed acidity  volatile acidity  citric acid  residual sugar  chlorides  \\\n",
       "0               7.0              0.27         0.36            20.7      0.045   \n",
       "1               6.3              0.30         0.34             1.6      0.049   \n",
       "2               8.1              0.28         0.40             6.9      0.050   \n",
       "3               7.2              0.23         0.32             8.5      0.058   \n",
       "4               7.2              0.23         0.32             8.5      0.058   \n",
       "...             ...               ...          ...             ...        ...   \n",
       "4893            6.2              0.21         0.29             1.6      0.039   \n",
       "4894            6.6              0.32         0.36             8.0      0.047   \n",
       "4895            6.5              0.24         0.19             1.2      0.041   \n",
       "4896            5.5              0.29         0.30             1.1      0.022   \n",
       "4897            6.0              0.21         0.38             0.8      0.020   \n",
       "\n",
       "      free sulfur dioxide  total sulfur dioxide  density    pH  sulphates  \\\n",
       "0                    45.0                 170.0  1.00100  3.00       0.45   \n",
       "1                    14.0                 132.0  0.99400  3.30       0.49   \n",
       "2                    30.0                  97.0  0.99510  3.26       0.44   \n",
       "3                    47.0                 186.0  0.99560  3.19       0.40   \n",
       "4                    47.0                 186.0  0.99560  3.19       0.40   \n",
       "...                   ...                   ...      ...   ...        ...   \n",
       "4893                 24.0                  92.0  0.99114  3.27       0.50   \n",
       "4894                 57.0                 168.0  0.99490  3.15       0.46   \n",
       "4895                 30.0                 111.0  0.99254  2.99       0.46   \n",
       "4896                 20.0                 110.0  0.98869  3.34       0.38   \n",
       "4897                 22.0                  98.0  0.98941  3.26       0.32   \n",
       "\n",
       "      alcohol  quality  \n",
       "0         8.8        6  \n",
       "1         9.5        6  \n",
       "2        10.1        6  \n",
       "3         9.9        6  \n",
       "4         9.9        6  \n",
       "...       ...      ...  \n",
       "4893     11.2        6  \n",
       "4894      9.6        5  \n",
       "4895      9.4        6  \n",
       "4896     12.8        7  \n",
       "4897     11.8        6  \n",
       "\n",
       "[4898 rows x 12 columns]"
      ]
     },
     "execution_count": 1,
     "metadata": {},
     "output_type": "execute_result"
    }
   ],
   "source": [
    "import pandas as pd\n",
    "import numpy as np\n",
    "import random\n",
    "data = pd.read_csv(\"winequality-white.csv\")\n",
    "data"
   ]
  },
  {
   "cell_type": "markdown",
   "metadata": {},
   "source": [
    "#### 对数据集进行预处理"
   ]
  },
  {
   "cell_type": "code",
   "execution_count": 2,
   "metadata": {},
   "outputs": [
    {
     "data": {
      "image/png": "[encoded data removed]",
      "text/plain": [
       "<Figure size 432x288 with 1 Axes>"
      ]
     },
     "metadata": {
      "needs_background": "light"
     },
     "output_type": "display_data"
    }
   ],
   "source": [
    "# 中心化\n",
    "def Normalization(x):\n",
    "    x = (x-np.mean(x,0))/(np.max(x,0)-np.min(x,0))\n",
    "    return x\n",
    "\n",
    "X = data.iloc[:,0:-1]\n",
    "X = Normalization(X);\n",
    "Y = data.iloc[:,-1];\n",
    "\n",
    "# 可视化中心化后的sulphates特征\n",
    "import matplotlib.pyplot as plt\n",
    "plt.hist(X[\"sulphates\"])\n",
    "plt.show()"
   ]
  },
  {
   "cell_type": "code",
   "execution_count": 3,
   "metadata": {},
   "outputs": [
    {
     "data": {
      "text/html": [
       "<div>\n",
       "<style scoped>\n",
       "    .dataframe tbody tr th:only-of-type {\n",
       "        vertical-align: middle;\n",
       "    }\n",
       "\n",
       "    .dataframe tbody tr th {\n",
       "        vertical-align: top;\n",
       "    }\n",
       "\n",
       "    .dataframe thead th {\n",
       "        text-align: right;\n",
       "    }\n",
       "</style>\n",
       "<table border=\"1\" class=\"dataframe\">\n",
       "  <thead>\n",
       "    <tr style=\"text-align: right;\">\n",
       "      <th></th>\n",
       "      <th>x0</th>\n",
       "      <th>fixed acidity</th>\n",
       "      <th>volatile acidity</th>\n",
       "      <th>citric acid</th>\n",
       "      <th>residual sugar</th>\n",
       "      <th>chlorides</th>\n",
       "      <th>free sulfur dioxide</th>\n",
       "      <th>total sulfur dioxide</th>\n",
       "      <th>density</th>\n",
       "      <th>pH</th>\n",
       "      <th>sulphates</th>\n",
       "      <th>alcohol</th>\n",
       "    </tr>\n",
       "  </thead>\n",
       "  <tbody>\n",
       "    <tr>\n",
       "      <th>0</th>\n",
       "      <td>1.0</td>\n",
       "      <td>0.013963</td>\n",
       "      <td>-0.008080</td>\n",
       "      <td>0.015547</td>\n",
       "      <td>0.219457</td>\n",
       "      <td>-0.002292</td>\n",
       "      <td>0.033770</td>\n",
       "      <td>0.073409</td>\n",
       "      <td>0.134425</td>\n",
       "      <td>-0.171151</td>\n",
       "      <td>-0.046334</td>\n",
       "      <td>-0.276495</td>\n",
       "    </tr>\n",
       "    <tr>\n",
       "      <th>1</th>\n",
       "      <td>1.0</td>\n",
       "      <td>-0.053345</td>\n",
       "      <td>0.021332</td>\n",
       "      <td>0.003499</td>\n",
       "      <td>-0.073488</td>\n",
       "      <td>0.009578</td>\n",
       "      <td>-0.074244</td>\n",
       "      <td>-0.014758</td>\n",
       "      <td>-0.000528</td>\n",
       "      <td>0.101576</td>\n",
       "      <td>0.000178</td>\n",
       "      <td>-0.163591</td>\n",
       "    </tr>\n",
       "    <tr>\n",
       "      <th>2</th>\n",
       "      <td>1.0</td>\n",
       "      <td>0.119732</td>\n",
       "      <td>0.001724</td>\n",
       "      <td>0.039644</td>\n",
       "      <td>0.007800</td>\n",
       "      <td>0.012545</td>\n",
       "      <td>-0.018495</td>\n",
       "      <td>-0.095964</td>\n",
       "      <td>0.020679</td>\n",
       "      <td>0.065212</td>\n",
       "      <td>-0.057961</td>\n",
       "      <td>-0.066817</td>\n",
       "    </tr>\n",
       "    <tr>\n",
       "      <th>3</th>\n",
       "      <td>1.0</td>\n",
       "      <td>0.033193</td>\n",
       "      <td>-0.047295</td>\n",
       "      <td>-0.008549</td>\n",
       "      <td>0.032340</td>\n",
       "      <td>0.036284</td>\n",
       "      <td>0.040738</td>\n",
       "      <td>0.110532</td>\n",
       "      <td>0.030319</td>\n",
       "      <td>0.001576</td>\n",
       "      <td>-0.104473</td>\n",
       "      <td>-0.099075</td>\n",
       "    </tr>\n",
       "    <tr>\n",
       "      <th>4</th>\n",
       "      <td>1.0</td>\n",
       "      <td>0.033193</td>\n",
       "      <td>-0.047295</td>\n",
       "      <td>-0.008549</td>\n",
       "      <td>0.032340</td>\n",
       "      <td>0.036284</td>\n",
       "      <td>0.040738</td>\n",
       "      <td>0.110532</td>\n",
       "      <td>0.030319</td>\n",
       "      <td>0.001576</td>\n",
       "      <td>-0.104473</td>\n",
       "      <td>-0.099075</td>\n",
       "    </tr>\n",
       "    <tr>\n",
       "      <th>...</th>\n",
       "      <td>...</td>\n",
       "      <td>...</td>\n",
       "      <td>...</td>\n",
       "      <td>...</td>\n",
       "      <td>...</td>\n",
       "      <td>...</td>\n",
       "      <td>...</td>\n",
       "      <td>...</td>\n",
       "      <td>...</td>\n",
       "      <td>...</td>\n",
       "      <td>...</td>\n",
       "      <td>...</td>\n",
       "    </tr>\n",
       "    <tr>\n",
       "      <th>4893</th>\n",
       "      <td>1.0</td>\n",
       "      <td>-0.062960</td>\n",
       "      <td>-0.066903</td>\n",
       "      <td>-0.026621</td>\n",
       "      <td>-0.073488</td>\n",
       "      <td>-0.020096</td>\n",
       "      <td>-0.039401</td>\n",
       "      <td>-0.107565</td>\n",
       "      <td>-0.055666</td>\n",
       "      <td>0.074303</td>\n",
       "      <td>0.011806</td>\n",
       "      <td>0.110602</td>\n",
       "    </tr>\n",
       "    <tr>\n",
       "      <th>4894</th>\n",
       "      <td>1.0</td>\n",
       "      <td>-0.024499</td>\n",
       "      <td>0.040940</td>\n",
       "      <td>0.015547</td>\n",
       "      <td>0.024672</td>\n",
       "      <td>0.003643</td>\n",
       "      <td>0.075582</td>\n",
       "      <td>0.068769</td>\n",
       "      <td>0.016823</td>\n",
       "      <td>-0.034788</td>\n",
       "      <td>-0.034706</td>\n",
       "      <td>-0.147462</td>\n",
       "    </tr>\n",
       "    <tr>\n",
       "      <th>4895</th>\n",
       "      <td>1.0</td>\n",
       "      <td>-0.034114</td>\n",
       "      <td>-0.037491</td>\n",
       "      <td>-0.086862</td>\n",
       "      <td>-0.079623</td>\n",
       "      <td>-0.014161</td>\n",
       "      <td>-0.018495</td>\n",
       "      <td>-0.063482</td>\n",
       "      <td>-0.028675</td>\n",
       "      <td>-0.180242</td>\n",
       "      <td>-0.034706</td>\n",
       "      <td>-0.179720</td>\n",
       "    </tr>\n",
       "    <tr>\n",
       "      <th>4896</th>\n",
       "      <td>1.0</td>\n",
       "      <td>-0.130268</td>\n",
       "      <td>0.011528</td>\n",
       "      <td>-0.020597</td>\n",
       "      <td>-0.081157</td>\n",
       "      <td>-0.070541</td>\n",
       "      <td>-0.053338</td>\n",
       "      <td>-0.065802</td>\n",
       "      <td>-0.102899</td>\n",
       "      <td>0.137939</td>\n",
       "      <td>-0.127729</td>\n",
       "      <td>0.368667</td>\n",
       "    </tr>\n",
       "    <tr>\n",
       "      <th>4897</th>\n",
       "      <td>1.0</td>\n",
       "      <td>-0.082191</td>\n",
       "      <td>-0.066903</td>\n",
       "      <td>0.027595</td>\n",
       "      <td>-0.085758</td>\n",
       "      <td>-0.076476</td>\n",
       "      <td>-0.046370</td>\n",
       "      <td>-0.093644</td>\n",
       "      <td>-0.089018</td>\n",
       "      <td>0.065212</td>\n",
       "      <td>-0.197496</td>\n",
       "      <td>0.207376</td>\n",
       "    </tr>\n",
       "  </tbody>\n",
       "</table>\n",
       "<p>4898 rows × 12 columns</p>\n",
       "</div>"
      ],
      "text/plain": [
       "       x0  fixed acidity  volatile acidity  citric acid  residual sugar  \\\n",
       "0     1.0       0.013963         -0.008080     0.015547        0.219457   \n",
       "1     1.0      -0.053345          0.021332     0.003499       -0.073488   \n",
       "2     1.0       0.119732          0.001724     0.039644        0.007800   \n",
       "3     1.0       0.033193         -0.047295    -0.008549        0.032340   \n",
       "4     1.0       0.033193         -0.047295    -0.008549        0.032340   \n",
       "...   ...            ...               ...          ...             ...   \n",
       "4893  1.0      -0.062960         -0.066903    -0.026621       -0.073488   \n",
       "4894  1.0      -0.024499          0.040940     0.015547        0.024672   \n",
       "4895  1.0      -0.034114         -0.037491    -0.086862       -0.079623   \n",
       "4896  1.0      -0.130268          0.011528    -0.020597       -0.081157   \n",
       "4897  1.0      -0.082191         -0.066903     0.027595       -0.085758   \n",
       "\n",
       "      chlorides  free sulfur dioxide  total sulfur dioxide   density  \\\n",
       "0     -0.002292             0.033770              0.073409  0.134425   \n",
       "1      0.009578            -0.074244             -0.014758 -0.000528   \n",
       "2      0.012545            -0.018495             -0.095964  0.020679   \n",
       "3      0.036284             0.040738              0.110532  0.030319   \n",
       "4      0.036284             0.040738              0.110532  0.030319   \n",
       "...         ...                  ...                   ...       ...   \n",
       "4893  -0.020096            -0.039401             -0.107565 -0.055666   \n",
       "4894   0.003643             0.075582              0.068769  0.016823   \n",
       "4895  -0.014161            -0.018495             -0.063482 -0.028675   \n",
       "4896  -0.070541            -0.053338             -0.065802 -0.102899   \n",
       "4897  -0.076476            -0.046370             -0.093644 -0.089018   \n",
       "\n",
       "            pH  sulphates   alcohol  \n",
       "0    -0.171151  -0.046334 -0.276495  \n",
       "1     0.101576   0.000178 -0.163591  \n",
       "2     0.065212  -0.057961 -0.066817  \n",
       "3     0.001576  -0.104473 -0.099075  \n",
       "4     0.001576  -0.104473 -0.099075  \n",
       "...        ...        ...       ...  \n",
       "4893  0.074303   0.011806  0.110602  \n",
       "4894 -0.034788  -0.034706 -0.147462  \n",
       "4895 -0.180242  -0.034706 -0.179720  \n",
       "4896  0.137939  -0.127729  0.368667  \n",
       "4897  0.065212  -0.197496  0.207376  \n",
       "\n",
       "[4898 rows x 12 columns]"
      ]
     },
     "execution_count": 3,
     "metadata": {},
     "output_type": "execute_result"
    }
   ],
   "source": [
    "#回归系数会比特征x多一维，为了向量相乘方便，可以在训练集X左侧添加全为1的一列\n",
    "data0=pd.concat([pd.DataFrame(np.ones(X.shape[0]),columns=['x0']),X],axis=1)\n",
    "data0"
   ]
  },
  {
   "cell_type": "code",
   "execution_count": 4,
   "metadata": {},
   "outputs": [
    {
     "data": {
      "text/plain": [
       "array([[ 0.72139949],\n",
       "       [-1.95111408],\n",
       "       [ 1.51004706],\n",
       "       [ 0.73804356],\n",
       "       [ 1.59721885],\n",
       "       [-0.66861514],\n",
       "       [-0.43616362],\n",
       "       [-2.67506517],\n",
       "       [ 0.97996923],\n",
       "       [ 1.23416978],\n",
       "       [ 0.80408804],\n",
       "       [ 0.59826176]])"
      ]
     },
     "execution_count": 4,
     "metadata": {},
     "output_type": "execute_result"
    }
   ],
   "source": [
    "# 初始化回归系数\n",
    "W_init = np.random.randn(data0.shape[1],1)\n",
    "W_init"
   ]
  },
  {
   "cell_type": "markdown",
   "metadata": {},
   "source": [
    "#### 划分数据集"
   ]
  },
  {
   "cell_type": "code",
   "execution_count": 5,
   "metadata": {},
   "outputs": [
    {
     "name": "stdout",
     "output_type": "stream",
     "text": [
      "4898\n"
     ]
    },
    {
     "data": {
      "image/png": "[encoded data removed]",
      "text/plain": [
       "<Figure size 432x288 with 1 Axes>"
      ]
     },
     "metadata": {
      "needs_background": "light"
     },
     "output_type": "display_data"
    }
   ],
   "source": [
    "Y_sort = Y.sort_values()\n",
    "Y_sort_index = Y_sort.index.tolist() #得到按照分类标签进行排序后的索引(已经乱序，无需再随机划分)\n",
    "Y_len = len(Y_sort_index)\n",
    "print(Y_len)\n",
    "\n",
    "V_len = 0 #记录当前分类的数据条数\n",
    "values = Y_sort[Y_sort_index[0]] #当前分类值\n",
    "test_index = [] \n",
    "train_index = []\n",
    "for i in range(Y_len):\n",
    "    if  (values == Y_sort[Y_sort_index[i]]) : #直到找到下一个类别不同的样例\n",
    "        V_len += 1\n",
    "    else:   #划分\n",
    "        train_index += Y_sort_index[i-V_len:i-int(V_len/5)] #获取索引\n",
    "        test_index += Y_sort_index[i-int(V_len/5):i]\n",
    "        values = Y_sort[Y_sort_index[i]] #更新当前类别\n",
    "        V_len = 1\n",
    "#(这里是由于上面的方法太笨,循环未对最后一个类别划分就结束了T^T)\n",
    "train_index += Y_sort_index[Y_len-V_len:Y_len-int(V_len/5)]\n",
    "test_index += Y_sort_index[Y_len-int(V_len/5):Y_len]\n",
    "values = Y_sort[Y_sort_index[i]]\n",
    "\n",
    "## 按照索引进行划分\n",
    "## 训练集\n",
    "X_train = data0.iloc[train_index]\n",
    "Y_train = Y.iloc[train_index]\n",
    "## 测试集\n",
    "X_test = data0.iloc[test_index]\n",
    "Y_test = Y.iloc[test_index]\n",
    "## 重置索引\n",
    "Y_train=pd.DataFrame(Y_train)\n",
    "Y_test=pd.DataFrame(Y_test)\n",
    "Y_train = Y_train.reset_index(drop=True)\n",
    "X_train = X_train.reset_index(drop=True)\n",
    "Y_test = Y_test.reset_index(drop=True)\n",
    "X_test = X_test.reset_index(drop=True)\n",
    "\n",
    "# 可视化中心化后的sulphates特征\n",
    "import matplotlib.pyplot as plt\n",
    "plt.hist(X_train[\"sulphates\"])\n",
    "plt.hist(X_test[\"sulphates\"])\n",
    "plt.show()\n"
   ]
  },
  {
   "cell_type": "markdown",
   "metadata": {},
   "source": [
    "#### 预测模型"
   ]
  },
  {
   "cell_type": "code",
   "execution_count": 6,
   "metadata": {},
   "outputs": [],
   "source": [
    "# 计算MSE\n",
    "def MSE(W,x_t,y_t):\n",
    "    mse = np.sum(np.power((x_t.dot(W)-y_t),2)/len(y_t))\n",
    "    return mse"
   ]
  },
  {
   "cell_type": "code",
   "execution_count": 7,
   "metadata": {},
   "outputs": [],
   "source": [
    "# 批梯度下降\n",
    "def bgd(x,y,init_w,iter_size,lr,x_t,y_t):\n",
    "    mse_test = []\n",
    "    mse_train = []\n",
    "    w = init_w\n",
    "    m = x.shape[0]\n",
    "    for i in range(iter_size):\n",
    "        predict = x.dot(w) # 预测矩阵\n",
    "        grad = x.T.dot((predict - y)) / m * lr # 梯度\n",
    "        w -= grad # 更新系数矩阵w\n",
    "        \n",
    "        mse_test.append(MSE(w,x_t,y_t))\n",
    "        mse_train.append(MSE(w,x,y))\n",
    "    # 可视化MSE曲线    \n",
    "    xaxis = np.linspace(0, iter_size,iter_size)\n",
    "    #plt.plot(xaxis, mse_test)\n",
    "    plt.plot(xaxis, mse_train)\n",
    "    plt.rcParams['font.sans-serif']=['SimHei']\n",
    "    plt.title(\"批梯度下降\")\n",
    "    plt.show()\n",
    "    return w,mse_test[iter_size-1]\n",
    "    "
   ]
  },
  {
   "cell_type": "code",
   "execution_count": 8,
   "metadata": {},
   "outputs": [],
   "source": [
    "# 随机梯度下降\n",
    "def randombgd(x,y,init_w,iter_size,lr,x_t,y_t):\n",
    "    mse_test = []\n",
    "    mse_train = []\n",
    "    w = init_w\n",
    "    m = x.shape[0]\n",
    "    for i in range(iter_size):\n",
    "        r = random.randint(0,len(x)-1)\n",
    "        t = x[r].reshape(1,12) # 随机选择一条数据\n",
    "\n",
    "        predict = t.dot(w) # 预测矩阵\n",
    "        grad = t.T.dot((predict - y[r])) / m * lr # 梯度\n",
    "        w -= grad # 更新系数矩阵w\n",
    "        mse_test.append(MSE(w,x_t,y_t))\n",
    "        mse_train.append(MSE(w,x,y))\n",
    "    # 可视化MSE曲线\n",
    "    xaxis = np.linspace(0, iter_size,iter_size)\n",
    "    #plt.plot(xaxis, mse_test)\n",
    "    plt.plot(xaxis, mse_train)\n",
    "    plt.rcParams['font.sans-serif']=['SimHei']\n",
    "    plt.title(\"随机梯度下降\")\n",
    "    plt.show()\n",
    "    return w,mse_test[iter_size-1]"
   ]
  },
  {
   "cell_type": "code",
   "execution_count": 9,
   "metadata": {},
   "outputs": [],
   "source": [
    "# 最小批学习(mini-batch learning)\n",
    "def minibgd(x,y,init_w,iter_size,lr,batch_size,x_t,y_t):\n",
    "    w = init_w\n",
    "    mse = []\n",
    "    batch_predict = np.zeros((batch_size, 1))\n",
    "    batch_x = np.zeros((batch_size, init_w.shape[0]))\n",
    "    batch_y = np.zeros((batch_size, 1))\n",
    "    m = batch_size\n",
    "    batch_num = 0\n",
    "    for i in range(iter_size):\n",
    "        for j in range(x.shape[0]):\n",
    "            batch_x[batch_num] = x[np.newaxis, j]\n",
    "            batch_predict[batch_num][0] = batch_x[batch_num].dot(w)\n",
    "            batch_y[batch_num][0] = y[np.newaxis, j]\n",
    "            batch_num += 1\n",
    "            if batch_num==batch_size:\n",
    "                batch_num = 0\n",
    "                grad = batch_x.T.dot((batch_predict - batch_y)) / m *lr\n",
    "                w -= grad\n",
    "        mse.append(MSE(w,x_t,y_t))\n",
    "    xaxis = np.linspace(0, iter_size,iter_size)\n",
    "    plt.plot(xaxis, mse)\n",
    "    plt.rcParams['font.sans-serif']=['SimHei']\n",
    "    plt.title(\"最小批学习\")\n",
    "    plt.show()\n",
    "    return w"
   ]
  },
  {
   "cell_type": "markdown",
   "metadata": {},
   "source": [
    "### 高级要求\n",
    "编程实现岭回归算法，求解训练样本的岭回归模型，平均训练误差和平均测试误差（解析法、批量梯度下降法和随机梯度下降法均可）。"
   ]
  },
  {
   "cell_type": "code",
   "execution_count": 10,
   "metadata": {},
   "outputs": [],
   "source": [
    "def Loss(W,x_t,y_t,lam):\n",
    "    loss = np.sum(np.power((x_t.dot(W)-y_t),2)/len(y_t)) + lam * W.T.dot(W)\n",
    "    return loss"
   ]
  },
  {
   "cell_type": "code",
   "execution_count": 11,
   "metadata": {},
   "outputs": [],
   "source": [
    "# 岭回归\n",
    "def RidgeRegression(x,y,w,lam,x_t,y_t):\n",
    "    xTx = x.T.dot(x)\n",
    "    t = xTx + np.eye(np.shape(x)[1])*lam # xTx+λI\n",
    "    # 判断是否为奇异矩阵\n",
    "    if np.linalg.det(t) == 0.0:\n",
    "        return\n",
    "    w = np.linalg.inv(t).dot(x.T.dot(y)) # 最优解求解公式求θ值\n",
    "    mse = MSE(w,x_t,y_t)\n",
    "    loss = Loss(w,x_t,y_t,lam)[0][0]\n",
    "    return mse,loss\n",
    "    \n"
   ]
  },
  {
   "cell_type": "code",
   "execution_count": 12,
   "metadata": {},
   "outputs": [
    {
     "data": {
      "image/png": "[encoded data removed]",
      "text/plain": [
       "<Figure size 432x288 with 1 Axes>"
      ]
     },
     "metadata": {
      "needs_background": "light"
     },
     "output_type": "display_data"
    },
    {
     "name": "stdout",
     "output_type": "stream",
     "text": [
      "批量梯度下降 测试集MSE: 0.8164771340253326\n"
     ]
    },
    {
     "data": {
      "image/png": "[encoded data removed]",
      "text/plain": [
       "<Figure size 432x288 with 1 Axes>"
      ]
     },
     "metadata": {
      "needs_background": "light"
     },
     "output_type": "display_data"
    },
    {
     "name": "stdout",
     "output_type": "stream",
     "text": [
      "随机梯度下降 测试集MSE: 4.567577460625262\n",
      "岭回归 损失: 2.019573405528141\n"
     ]
    }
   ],
   "source": [
    "w = W_init\n",
    "x=np.array(X_train)\n",
    "y=np.array(Y_train)\n",
    "x_test=np.array(X_test)\n",
    "y_test=np.array(Y_test)\n",
    "w1,mse1 = bgd(x,y,w.copy(),1000,0.01,x_test,y_test)\n",
    "print(\"批量梯度下降 测试集MSE:\",mse1)\n",
    "w2,mse2 = randombgd(x,y,w.copy(),4000,1,x_test,y_test)\n",
    "print(\"随机梯度下降 测试集MSE:\",mse2)\n",
    "mse3,loss = RidgeRegression(x,y,w.copy(),0.01,x_test,y_test)\n",
    "print(\"岭回归 损失:\",loss)\n",
    "\n"
   ]
  },
  {
   "cell_type": "markdown",
   "metadata": {},
   "source": [
    "#### 不同学习率展示"
   ]
  },
  {
   "cell_type": "code",
   "execution_count": 13,
   "metadata": {},
   "outputs": [
    {
     "data": {
      "image/png": "[encoded data removed]",
      "text/plain": [
       "<Figure size 432x288 with 1 Axes>"
      ]
     },
     "metadata": {
      "needs_background": "light"
     },
     "output_type": "display_data"
    },
    {
     "name": "stdout",
     "output_type": "stream",
     "text": [
      "学习率:0.01 测试集MSE: 0.8164771340253326\n"
     ]
    },
    {
     "data": {
      "image/png": "[encoded data removed]",
      "text/plain": [
       "<Figure size 432x288 with 1 Axes>"
      ]
     },
     "metadata": {
      "needs_background": "light"
     },
     "output_type": "display_data"
    },
    {
     "name": "stdout",
     "output_type": "stream",
     "text": [
      "学习率:0.03 测试集MSE: 0.7551979829422907\n"
     ]
    },
    {
     "data": {
      "image/png": "[encoded data removed]",
      "text/plain": [
       "<Figure size 432x288 with 1 Axes>"
      ]
     },
     "metadata": {
      "needs_background": "light"
     },
     "output_type": "display_data"
    },
    {
     "name": "stdout",
     "output_type": "stream",
     "text": [
      "学习率:0.1 测试集MSE: 0.6641233406037316\n"
     ]
    },
    {
     "data": {
      "image/png": "[encoded data removed]",
      "text/plain": [
       "<Figure size 432x288 with 1 Axes>"
      ]
     },
     "metadata": {
      "needs_background": "light"
     },
     "output_type": "display_data"
    },
    {
     "name": "stdout",
     "output_type": "stream",
     "text": [
      "学习率:0.3 测试集MSE: 0.6256870542701085\n"
     ]
    },
    {
     "data": {
      "image/png": "[encoded data removed]",
      "text/plain": [
       "<Figure size 432x288 with 1 Axes>"
      ]
     },
     "metadata": {
      "needs_background": "light"
     },
     "output_type": "display_data"
    },
    {
     "name": "stdout",
     "output_type": "stream",
     "text": [
      "学习率:1 测试集MSE: 0.6225354528000488\n"
     ]
    },
    {
     "data": {
      "image/png": "[encoded data removed]",
      "text/plain": [
       "<Figure size 432x288 with 1 Axes>"
      ]
     },
     "metadata": {
      "needs_background": "light"
     },
     "output_type": "display_data"
    },
    {
     "name": "stdout",
     "output_type": "stream",
     "text": [
      "学习率:2 测试集MSE: 58.3029446068369\n"
     ]
    }
   ],
   "source": [
    "w1,mse1 = bgd(x,y,w.copy(),1000,0.01,x_test,y_test)\n",
    "print(\"学习率:0.01 测试集MSE:\",mse1)\n",
    "w1,mse1 = bgd(x,y,w.copy(),1000,0.03,x_test,y_test)\n",
    "print(\"学习率:0.03 测试集MSE:\",mse1)\n",
    "w1,mse1 = bgd(x,y,w.copy(),1000,0.1,x_test,y_test)\n",
    "print(\"学习率:0.1 测试集MSE:\",mse1)\n",
    "w1,mse1 = bgd(x,y,w.copy(),1000,0.3,x_test,y_test)\n",
    "print(\"学习率:0.3 测试集MSE:\",mse1)\n",
    "w1,mse1 = bgd(x,y,w.copy(),1000,1,x_test,y_test)\n",
    "print(\"学习率:1 测试集MSE:\",mse1)\n",
    "w1,mse1 = bgd(x,y,w.copy(),1000,2,x_test,y_test)\n",
    "print(\"学习率:2 测试集MSE:\",mse1)\n"
   ]
  },
  {
   "cell_type": "markdown",
   "metadata": {},
   "source": [
    "设置迭代次数均为1000次，从图中可以看到，最开始随着学习率的增加，MSE收敛的越来越快，效果越来越好，但当学习率超过某个值后，结果开始变差，当学习率为2时MSE不再收敛，最佳学习率应当在0.3到1之间。"
   ]
  },
  {
   "cell_type": "code",
   "execution_count": 14,
   "metadata": {},
   "outputs": [
    {
     "data": {
      "image/png": "[encoded data removed]",
      "text/plain": [
       "<Figure size 432x288 with 1 Axes>"
      ]
     },
     "metadata": {
      "needs_background": "light"
     },
     "output_type": "display_data"
    },
    {
     "name": "stdout",
     "output_type": "stream",
     "text": [
      "学习率:0.1 测试集MSE: 23.114682390540857\n"
     ]
    },
    {
     "data": {
      "image/png": "[encoded data removed]",
      "text/plain": [
       "<Figure size 432x288 with 1 Axes>"
      ]
     },
     "metadata": {
      "needs_background": "light"
     },
     "output_type": "display_data"
    },
    {
     "name": "stdout",
     "output_type": "stream",
     "text": [
      "学习率:0.3 测试集MSE: 15.773150487617688\n"
     ]
    },
    {
     "data": {
      "image/png": "[encoded data removed]",
      "text/plain": [
       "<Figure size 432x288 with 1 Axes>"
      ]
     },
     "metadata": {
      "needs_background": "light"
     },
     "output_type": "display_data"
    },
    {
     "name": "stdout",
     "output_type": "stream",
     "text": [
      "学习率:1 测试集MSE: 4.532519755097576\n"
     ]
    },
    {
     "data": {
      "image/png": "[encoded data removed]",
      "text/plain": [
       "<Figure size 432x288 with 1 Axes>"
      ]
     },
     "metadata": {
      "needs_background": "light"
     },
     "output_type": "display_data"
    },
    {
     "name": "stdout",
     "output_type": "stream",
     "text": [
      "学习率:3 测试集MSE: 0.9422269264968395\n"
     ]
    },
    {
     "data": {
      "image/png": "[encoded data removed]",
      "text/plain": [
       "<Figure size 432x288 with 1 Axes>"
      ]
     },
     "metadata": {
      "needs_background": "light"
     },
     "output_type": "display_data"
    },
    {
     "name": "stdout",
     "output_type": "stream",
     "text": [
      "学习率:6 测试集MSE: 0.8370152954103641\n"
     ]
    },
    {
     "data": {
      "image/png": "[encoded data removed]",
      "text/plain": [
       "<Figure size 432x288 with 1 Axes>"
      ]
     },
     "metadata": {
      "needs_background": "light"
     },
     "output_type": "display_data"
    },
    {
     "name": "stdout",
     "output_type": "stream",
     "text": [
      "学习率:9 测试集MSE: 0.8216721243558827\n"
     ]
    }
   ],
   "source": [
    "w2,mse2 = randombgd(x,y,w.copy(),4000,0.1,x_test,y_test)\n",
    "print(\"学习率:0.1 测试集MSE:\",mse2)\n",
    "w2,mse2 = randombgd(x,y,w.copy(),4000,0.3,x_test,y_test)\n",
    "print(\"学习率:0.3 测试集MSE:\",mse2)\n",
    "w2,mse2 = randombgd(x,y,w.copy(),4000,1,x_test,y_test)\n",
    "print(\"学习率:1 测试集MSE:\",mse2)\n",
    "w2,mse2 = randombgd(x,y,w.copy(),4000,3,x_test,y_test)\n",
    "print(\"学习率:3 测试集MSE:\",mse2)\n",
    "w2,mse2 = randombgd(x,y,w.copy(),4000,6,x_test,y_test)\n",
    "print(\"学习率:6 测试集MSE:\",mse2)\n",
    "w2,mse2 = randombgd(x,y,w.copy(),4000,9,x_test,y_test)\n",
    "print(\"学习率:9 测试集MSE:\",mse2)"
   ]
  },
  {
   "cell_type": "markdown",
   "metadata": {},
   "source": [
    "设置迭代次数均为4000次，从图中可以看到，最开始随着学习率的增加，MSE收敛的越来越快，效果越来越好，但并没有出现在批量梯度学习中MSE发散的情况，考虑原因可能是随机梯度下降的收敛速度较慢，只有在学习率非常大的时候才可能会发散，根据如上结果，学习率在9左右效果已经较好。"
   ]
  },
  {
   "cell_type": "markdown",
   "metadata": {},
   "source": [
    "### 中级要求\n",
    "探究回归模型在机器学习和统计学上的差异。\n",
    "- 回归模型在机器学习领域和统计学领域中都十分常用，而且使用方法也相似，但其实际的含义具有本质的区别。我们希望同学们从回归模型的角度更加充分地理解机器学习和统计学的区别。\n",
    "#### 机器学习和统计的主要区别在于它们的目的\n",
    "关于这个话题，最常见的说法是“机器学习和统计的主要区别在于它们的目的。机器学习模型旨在使最准确的预测成为可能。统计模型是为推断变量之间的关系而设计的”。虽然技术上来说这是正确的，但这样的论述并没有给出特别清晰和令人满意的答案。机器学习和统计之间的一个主要区别确实是它们的目的。然而，说机器学习是关于准确的预测，而统计模型是为推理而设计，几乎是毫无意义的说法。\n",
    "\n",
    "首先必须明白，统计和统计建模是不一样的。统计是对数据的数学研究。除非有数据，否则无法进行统计。统计模型是数据的模型，主要用于推断数据中不同内容的关系，或创建能够预测未来值的模型。通常情况下，这两者是相辅相成的。\n",
    "\n",
    "因此，实际上我们需要从两方面来论述：\n",
    "- 第一，统计与机器学习有何不同？\n",
    "- 第二，统计模型与机器学习有何不同？\n",
    "\n",
    "说的更直白些就是，有很多统计模型可以做出预测，但预测效果比较差强人意。\n",
    "\n",
    "而机器学习通常会牺牲可解释性以获得强大的预测能力。例如，从线性回归到神经网络，尽管解释性变差，但是预测能力却大幅提高。\n",
    "\n",
    "从宏观角度来看，这是一个很好的答案。但在有些情况下，这种说法容易让我们对机器学习和统计建模之间的差异产生误解。让我们看一下线性回归的例子。\n",
    "\n",
    "#### 统计模型与机器学习在线性回归上的差异\n",
    "\n",
    "<img src='1.png'>\n",
    "\n",
    "虽然统计建模和机器学习中使用的方法有很大的相似性，但实际上它们并不是一个东西。\n",
    "\n",
    "例如线性回归，线性回归是一种统计方法，通过这种方法我们既可以训练一个线性回归器，又可以通过最小二乘法拟合一个统计回归模型。\n",
    "\n",
    "可以看到，在这个案例中，前者做的是“训练”模型，它只用到了数据的一个子集，而训练得到的模型究竟表现如何需要通过数据的另一个子集测试集测试之后才能知道。在这个例子中，机器学习的最终目的是在测试集上获得最佳性能。\n",
    "\n",
    "对于后者，我们则事先假设数据是一个具有高斯噪声的线性回归量，然后试图找到一条线，最大限度地减少了所有数据的均方误差。不需要训练或测试集，在许多情况下，特别是在研究中（如下面的传感器示例），建模的目的是描述数据与输出变量之间的关系, 而不是对未来数据进行预测。我们称此过程为统计推断，而不是预测。尽管我们可以使用此模型进行预测，这也可能是你所想的，但评估模型的方法不再是测试集，而是评估模型参数的显著性和健壮性。\n",
    "\n",
    "机器学习（这里特指有监督学习）的目的是获得一个可反复预测的模型。我们通常不关心模型是否可以解释。机器学习只在乎结果。而统计建模更多的是为了寻找变量之间的关系和确定关系的显著性，恰巧迎合了预测。\n",
    "\n",
    "很明显，这两种方法在目标上是不同的，尽管使用了相似的方法来达到目标。机器学习算法的评估使用测试集来验证其准确性。然而，对于统计模型，通过置信区间、显著性检验和其他检验对回归参数进行分析，可以用来评估模型的合法性。因为这些方法产生相同的结果，所以很容易理解为什么人们会假设它们是相同的。\n",
    "\n",
    "#### 统计与机器学习在线性回归上的差异\n",
    "有一个误解存在了10年：仅基于它们都利用相同的基本概率概念这一事实，来混淆这两个术语是不合理的。\n",
    "\n",
    "<img src='2.png'>\n",
    "\n",
    "然而，仅仅基于这两个术语都利用了概率里相同的基本概念这一事实而将他们混为一谈是不合理的。就好比，如果仅仅把机器学习当作披了一层光鲜外衣的统计，我们也可以这样说：\n",
    "\n",
    "- 物理只是数学的一种更好听的说法。\n",
    "- 动物学只是邮票收藏的一种更好听的说法。\n",
    "- 建筑学只是沙堡建筑的一种更好听的说法。\n",
    "这些说法（尤其是最后一个）非常荒谬，完全混淆了两个类似想法的术语。\n",
    "\n",
    "实际上，物理是建立在数学基础上的，理解现实中的物理现象是数学的应用。物理学还包括统计学的各个方面，而现代统计学通常是建立在Zermelo-Frankel集合论与测量理论相结合的框架中，以产生概率空间。它们有很多共同点，因为它们来自相似的起源，并运用相似的思想得出一个逻辑结论。同样，建筑学和沙堡建筑可能有很多共同点，但即使我不是一个建筑师，也不能给出一个清晰的解释，但也看得出它们显然不一样。\n"
   ]
  }
 ],
 "metadata": {
  "kernelspec": {
   "display_name": "Python 3.9.12 ('base')",
   "language": "python",
   "name": "python3"
  },
  "language_info": {
   "codemirror_mode": {
    "name": "ipython",
    "version": 3
   },
   "file_extension": ".py",
   "mimetype": "text/x-python",
   "name": "python",
   "nbconvert_exporter": "python",
   "pygments_lexer": "ipython3",
   "version": "3.9.12"
  },
  "vscode": {
   "interpreter": {
    "hash": "7758e92e9a61d7a3490898707f7eeb937c85e9d1e8d4e877cc6c187218f226d5"
   }
  }
 },
 "nbformat": 4,
 "nbformat_minor": 2
}
