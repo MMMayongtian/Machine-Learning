{
 "cells": [
  {
   "cell_type": "markdown",
   "metadata": {},
   "source": [
    "# 实验一 基于KNN的手写数字识别\n",
    "- 姓名：马永田\n",
    "- 学号：2012911\n",
    "- 专业：计算机科学与技术专业"
   ]
  },
  {
   "cell_type": "markdown",
   "metadata": {},
   "source": [
    "### 实验要求\n",
    "题目：基于KNN 的手写数字识别\n",
    "实验条件：给定semeion手写数字数据集，给定kNN分类算法\n",
    "实验要求：\n",
    "1. 基本要求：编程实现kNN算法；给出在不同k值（1，3，5）情况下，kNN算法对手写数字的识别精度（要求采用留一法）\n",
    "2. 中级要求：与weka机器学习包中的kNN分类结果进行对比\n",
    "3. 提高要求：将实验过程结果等图示展出\n",
    "\n",
    "**截止日期：10月7日**\n",
    "- 以.ipynb形式的文件提交，输出运行结果，并确保自己的代码能够正确运行\n",
    "- 发送到邮箱：2120220594@mail.nankai.edu.cn"
   ]
  },
  {
   "cell_type": "markdown",
   "metadata": {},
   "source": [
    "### 导入需要的包"
   ]
  },
  {
   "cell_type": "code",
   "execution_count": 1,
   "metadata": {},
   "outputs": [],
   "source": [
    "import numpy as np\n",
    "import operator\n",
    "from collections import Counter\n",
    "from sklearn.model_selection import train_test_split,cross_val_score\n",
    "from sklearn.model_selection import LeaveOneOut\n",
    "from sklearn.neighbors import KNeighborsClassifier\n",
    "from tqdm import tqdm\n",
    "import matplotlib.pyplot as plt\n",
    "import time\n"
   ]
  },
  {
   "cell_type": "markdown",
   "metadata": {},
   "source": [
    "### 导入数据集 semesion"
   ]
  },
  {
   "cell_type": "code",
   "execution_count": 2,
   "metadata": {},
   "outputs": [],
   "source": [
    "# 导入数据\n",
    "def Img2Mat(fileName):\n",
    "    f = open(fileName)\n",
    "    ss = f.readlines()\n",
    "    l = len(ss)\n",
    "    f.close()\n",
    "    returnMat = np.zeros((l,256))\n",
    "    returnClassVector = np.zeros((l,1))\n",
    "    for i in range(l):\n",
    "        s1 = ss[i].split()\n",
    "        for j in range(256):\n",
    "            returnMat[i][j] = float(s1[j])\n",
    "        clCount = 0\n",
    "        for j in range(256,266):\n",
    "            if s1[j] != '1':\n",
    "                clCount += 1\n",
    "            else:\n",
    "                break\n",
    "        returnClassVector[i] = clCount\n",
    "    return returnMat,returnClassVector"
   ]
  },
  {
   "cell_type": "code",
   "execution_count": 3,
   "metadata": {},
   "outputs": [
    {
     "data": {
      "text/plain": [
       "((1593, 256), (1593, 1))"
      ]
     },
     "execution_count": 3,
     "metadata": {},
     "output_type": "execute_result"
    }
   ],
   "source": [
    "X,y = Img2Mat('semeion.data')\n",
    "np.shape(X), np.shape(y)\n",
    "# X为数据集点阵\n",
    "# y为识别tag"
   ]
  },
  {
   "cell_type": "markdown",
   "metadata": {},
   "source": [
    "### 基本要求\n",
    "编程实现kNN算法；给出不同k值（1，3，5）情况下，kNN算法对手写数字的识别精度（模板中采用的是普通方法分割训练集和测试集，作业中需要用留一法）"
   ]
  },
  {
   "cell_type": "code",
   "execution_count": 4,
   "metadata": {},
   "outputs": [],
   "source": [
    "# KNN算法手动实现  留一法\n",
    "def MyKnnClassifier(data_X, data_y, neighbors):\n",
    "    acc = 0 # 累计准确个数\n",
    "    data_len = np.shape(data_X)[0]\n",
    "    for index in range(data_len):\n",
    "        #训练集生成\n",
    "        X_train = np.delete(data_X,index,axis=0)\n",
    "        y_train = np.delete(data_y,index,axis=0)\n",
    "        #测试集生成\n",
    "        X_test = data_X[index]\n",
    "        y_test = data_y[index]\n",
    "        trainShape = np.shape(X_train)[0]   # 获得训练集的大小\n",
    "        testRes = []  # 存放测试结果\n",
    "        # 差异矩阵 = 该样本与训练集中所有样本之差构成的矩阵\n",
    "        testDiffMat = np.tile(X_test,(trainShape , 1)) - X_train\n",
    "        sqTestDiffMat = testDiffMat ** 2    # 将差异矩阵平方\n",
    "        # 方差距离为方差矩阵的整行求和，是一个一位列向量\n",
    "        sqTestDiffDis = sqTestDiffMat.sum(axis=1)\n",
    "        testDiffDis = sqTestDiffDis ** 0.5  # 开方生成标准差距离\n",
    "        sortIndex = np.argsort(testDiffDis)   # 将标准差距离按照下标排序\n",
    "        labelCount = []\n",
    "        for j in range(neighbors):  # 考察k近邻属于哪些类\n",
    "            labelCount.append(y_train[sortIndex[j]][0])\n",
    "        classifyRes = Counter(labelCount)    # 把k近邻中最多的那个标签作为分类结果\n",
    "        classifyRes = classifyRes.most_common(2)[0][0]\n",
    "        testRes.append(classifyRes)\n",
    "        if classifyRes == y_test:  # 分类正确则将sum+1\n",
    "            acc += 1\n",
    "    accRate = acc / data_len\n",
    "    print('k={0}时，测试个数为{1}  正确个数为：{2}  准确率为：{3}'.format(neighbors,data_len,acc,accRate))    \n",
    "    return accRate"
   ]
  },
  {
   "cell_type": "markdown",
   "metadata": {},
   "source": [
    "实验结果："
   ]
  },
  {
   "cell_type": "code",
   "execution_count": 5,
   "metadata": {},
   "outputs": [
    {
     "name": "stdout",
     "output_type": "stream",
     "text": [
      "k=1时，测试个数为1593  正确个数为：1459  准确率为：0.9158819836785939\n",
      "k=3时，测试个数为1593  正确个数为：1464  准确率为：0.9190207156308852\n",
      "k=5时，测试个数为1593  正确个数为：1458  准确率为：0.9152542372881356\n"
     ]
    },
    {
     "data": {
      "text/plain": [
       "0.9152542372881356"
      ]
     },
     "execution_count": 5,
     "metadata": {},
     "output_type": "execute_result"
    }
   ],
   "source": [
    "MyKnnClassifier(X, y, 1)\n",
    "MyKnnClassifier(X, y, 3)\n",
    "MyKnnClassifier(X, y, 5)"
   ]
  },
  {
   "cell_type": "markdown",
   "metadata": {},
   "source": [
    "### 中级要求\n",
    "模板中与sklearn机器学习包中的kNN分类结果进行对比（作业中需要与weka机器学习包中的kNN分类结果进行对比）"
   ]
  },
  {
   "cell_type": "markdown",
   "metadata": {},
   "source": [
    "#### 使用Weka机器学习包中的kNN分类器\n",
    "实验中发现csv和data格式的文件均无法成功导入到weka软件中.\n",
    "\n",
    "故先将数据进行简单处理并导出为csv格式文件后,利用现成工具将其转换为arff文件."
   ]
  },
  {
   "cell_type": "code",
   "execution_count": 6,
   "metadata": {},
   "outputs": [],
   "source": [
    "import pandas as pd\n",
    "from xml.etree.ElementTree import tostring\n",
    "t_attr=[]\n",
    "for i in range(np.shape(X)[1]):\n",
    "    t_attr.append(\"V\"+str(i))\n",
    "t_attr.append('Class') #添加列名(属性名)\n",
    "\n",
    "attr = np.array(t_attr)\n",
    "temp1 = np.hstack((X,y)) #数据集点阵和识别tag拼接\n",
    "temp2 = np.vstack((attr,temp1)) #列名拼接\n",
    "df = pd.DataFrame(temp2)\n",
    "#print(df)\n",
    "df.to_csv('semeion.csv',index=False,header=False) #输出为csv文件"
   ]
  },
  {
   "cell_type": "markdown",
   "metadata": {},
   "source": [
    "K取1~29 最终得到如下数据:"
   ]
  },
  {
   "cell_type": "code",
   "execution_count": 7,
   "metadata": {},
   "outputs": [],
   "source": [
    "scores_weka = [ 0.914626,0.885750,0.903327,0.901444,0.902699,0.902699,0.903327,\n",
    "                0.897050,0.899561,0.899561,0.905838,0.899561,0.895794,0.892655,\n",
    "                0.893283,0.893283,0.893911,0.895166,0.893911,0.895166,0.889517,\n",
    "                0.887633,0.886378,0.885750,0.883867,0.885122,0.885750,0.885122,\n",
    "                0.885122]"
   ]
  },
  {
   "cell_type": "markdown",
   "metadata": {},
   "source": [
    "### 高级要求\n",
    "将实验过程结果等图示展出"
   ]
  },
  {
   "cell_type": "code",
   "execution_count": 8,
   "metadata": {},
   "outputs": [
    {
     "name": "stdout",
     "output_type": "stream",
     "text": [
      "k=1时，测试个数为1593  正确个数为：1459  准确率为：0.9158819836785939\n",
      "k=2时，测试个数为1593  正确个数为：1459  准确率为：0.9158819836785939\n",
      "k=3时，测试个数为1593  正确个数为：1464  准确率为：0.9190207156308852\n",
      "k=4时，测试个数为1593  正确个数为：1465  准确率为：0.9196484620213434\n",
      "k=5时，测试个数为1593  正确个数为：1458  准确率为：0.9152542372881356\n",
      "k=6时，测试个数为1593  正确个数为：1464  准确率为：0.9190207156308852\n",
      "k=7时，测试个数为1593  正确个数为：1469  准确率为：0.9221594475831764\n",
      "k=8时，测试个数为1593  正确个数为：1472  准确率为：0.9240426867545511\n",
      "k=9时，测试个数为1593  正确个数为：1471  准确率为：0.9234149403640929\n",
      "k=10时，测试个数为1593  正确个数为：1465  准确率为：0.9196484620213434\n",
      "k=11时，测试个数为1593  正确个数为：1456  准确率为：0.9139987445072191\n",
      "k=12时，测试个数为1593  正确个数为：1460  准确率为：0.9165097300690521\n",
      "k=13时，测试个数为1593  正确个数为：1461  准确率为：0.9171374764595104\n",
      "k=14时，测试个数为1593  正确个数为：1453  准确率为：0.9121155053358443\n",
      "k=15时，测试个数为1593  正确个数为：1446  准确率为：0.9077212806026366\n",
      "k=16时，测试个数为1593  正确个数为：1446  准确率为：0.9077212806026366\n",
      "k=17时，测试个数为1593  正确个数为：1442  准确率为：0.9052102950408035\n",
      "k=18时，测试个数为1593  正确个数为：1438  准确率为：0.9026993094789705\n",
      "k=19时，测试个数为1593  正确个数为：1436  准确率为：0.901443816698054\n",
      "k=20时，测试个数为1593  正确个数为：1435  准确率为：0.9008160703075957\n",
      "k=21时，测试个数为1593  正确个数为：1436  准确率为：0.901443816698054\n",
      "k=22时，测试个数为1593  正确个数为：1440  准确率为：0.903954802259887\n",
      "k=23时，测试个数为1593  正确个数为：1435  准确率为：0.9008160703075957\n",
      "k=24时，测试个数为1593  正确个数为：1427  准确率为：0.8957940991839297\n",
      "k=25时，测试个数为1593  正确个数为：1426  准确率为：0.8951663527934715\n",
      "k=26时，测试个数为1593  正确个数为：1424  准确率为：0.8939108600125549\n",
      "k=27时，测试个数为1593  正确个数为：1424  准确率为：0.8939108600125549\n",
      "k=28时，测试个数为1593  正确个数为：1417  准确率为：0.8895166352793471\n",
      "k=29时，测试个数为1593  正确个数为：1423  准确率为：0.8932831136220967\n"
     ]
    }
   ],
   "source": [
    "scores1 = []\n",
    "scores_weka = [ 0.914626,0.885750,0.903327,0.901444,0.902699,0.902699,0.903327,\n",
    "                0.897050,0.899561,0.899561,0.905838,0.899561,0.895794,0.892655,\n",
    "                0.893283,0.893283,0.893911,0.895166,0.893911,0.895166,0.889517,\n",
    "                0.887633,0.886378,0.885750,0.883867,0.885122,0.885750,0.885122,\n",
    "                0.885122]\n",
    "for k in range(1,30):\n",
    "    score1 = MyKnnClassifier(X, y, k)\n",
    "    scores1.append(score1)"
   ]
  },
  {
   "cell_type": "code",
   "execution_count": null,
   "metadata": {},
   "outputs": [
    {
     "data": {
      "image/png": "[encoded data removed]",
      "text/plain": [
       "<Figure size 432x288 with 1 Axes>"
      ]
     },
     "metadata": {
      "needs_background": "light"
     },
     "output_type": "display_data"
    }
   ],
   "source": [
    "plt.xlabel('k value:',fontsize=18)\n",
    "plt.ylabel('accuracy',fontsize=18)\n",
    "x_major_locator = plt.MultipleLocator(1)\n",
    "ax = plt.gca()\n",
    "ax.xaxis.set_major_locator(x_major_locator)\n",
    "plt.xlim(0, 30)\n",
    "plt.ylim(0.75, 1)\n",
    "# 普通kNN分类精度\n",
    "plt.plot(range(1,30),scores1,'r')\n",
    "plt.plot(range(1,30),scores_weka,'b')\n",
    "plt.show()"
   ]
  },
  {
   "cell_type": "markdown",
   "metadata": {},
   "source": [
    "观察最终图表可以发现使用留一法验证的给定kNN算法识别精度均高于Weka机器学习包中的kNN算法；并且随着K值的增大，两种方法的精度均降低。\n",
    "\n",
    "查询资料后得知是由于k越大，表示模型的学习能力越弱，因为k越大，它越倾向于从“面”上考虑做出判断，而不是具体地考虑一个样本近身的情况来做出判断，所以偏差会越来越大。\n",
    "考虑一个最极端的情况也可得出该结论，例如 K=N（N为训练样本个数）时，此时无论输入实例是什么，都只是简单的预测它属于在训练实例中最多的类，模型过于简单，忽略了训练实例中大量有用信息。\n",
    "相应的，K值的减小就意味着整体模型变得复杂，容易发生过拟合。"
   ]
  }
 ],
 "metadata": {
  "kernelspec": {
   "display_name": "Python 3 (ipykernel)",
   "language": "python",
   "name": "python3"
  },
  "language_info": {
   "codemirror_mode": {
    "name": "ipython",
    "version": 3
   },
   "file_extension": ".py",
   "mimetype": "text/x-python",
   "name": "python",
   "nbconvert_exporter": "python",
   "pygments_lexer": "ipython3",
   "version": "3.9.12"
  },
  "vscode": {
   "interpreter": {
    "hash": "7758e92e9a61d7a3490898707f7eeb937c85e9d1e8d4e877cc6c187218f226d5"
   }
  }
 },
 "nbformat": 4,
 "nbformat_minor": 4
}
